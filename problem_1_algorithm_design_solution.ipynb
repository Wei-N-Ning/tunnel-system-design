{
 "cells": [
  {
   "cell_type": "markdown",
   "id": "7e8bd8c8",
   "metadata": {},
   "source": [
    "# 1. Max Capacity between two locations"
   ]
  },
  {
   "cell_type": "markdown",
   "id": "c5270f3d",
   "metadata": {},
   "source": [
    "## Problem breakdown"
   ]
  },
  {
   "cell_type": "markdown",
   "id": "c1afd269",
   "metadata": {},
   "source": [
    "- Given a list of tunnels in the form of `[(start_location, end_location, max cars/h) ...]`\n",
    "- Given the source and destination\n",
    "- Calculate the theoretical maximum capcacity between the source and destination\n",
    "- Can ignore the cars (flows) that exit the system or enter the system anywhere else"
   ]
  },
  {
   "cell_type": "markdown",
   "id": "535d37d0",
   "metadata": {},
   "source": [
    "## Modelling"
   ]
  },
  {
   "cell_type": "markdown",
   "id": "109bcd18",
   "metadata": {},
   "source": [
    "The observation is that this is essentially a graph problem, where a Directed Graph has $N$ nodes\n",
    "and $M$ edges. An edge represent a tunnel $A \\to B$ in the system, and a node is either the\n",
    "start location or the end location of a tunnel. \n",
    "\n",
    "Each edge $E$ carries a positive number representing the maximum number of cars passing through this edge, i.e. the maximum flow.\n",
    "\n",
    "Collectively, the edge flows limit the total flow passing from $Source$ to $Desination$.\n"
   ]
  },
  {
   "cell_type": "markdown",
   "id": "566d4b0c",
   "metadata": {},
   "source": [
    "## Assumption"
   ]
  },
  {
   "cell_type": "markdown",
   "id": "b466104f",
   "metadata": {},
   "source": [
    "I will assume the following constraints:\n",
    "\n",
    "- the initial edge flows can only be positive (as it doesn't make sense to have `-10` cars passing through a tunnel)\n",
    "- every car that enters the system at the start location will only exit at the destination location, i.e. they won't exit earlier via any side route\n",
    "- there is at least one path from the source to destination"
   ]
  },
  {
   "cell_type": "markdown",
   "id": "d841310c",
   "metadata": {},
   "source": [
    "## The Algorithm and the pseudo-code"
   ]
  },
  {
   "cell_type": "markdown",
   "id": "4453e970",
   "metadata": {},
   "source": [
    "I will base my solution on Edmonds-Karp algorithm.\n",
    "\n",
    "Firstly, I need to build up a residual graph from the given list of edges (tunnels).\n",
    "\n",
    "The residual graph is a Directed Graph where each edge $E$ in the original input has a counterpart back-edge $\\overleftarrow{E}$ with 0 flow. Namely if there is an edge $E$ connecting $A \\to B$, then its backedge $\\overleftarrow{E}$ connects $B \\to A$\n",
    "\n",
    "The back-edge serves 2 purposes:\n",
    "\n",
    "- it records how much existing edge capacity has been utilized\n",
    "- it lets the algorithm to continue from a previously evaluated path to discover new paths, e.g\n",
    "$\\begin{cases} A \\to B \\\\\n",
    "A \\to B \\to C \\\\\n",
    "A \\to B \\to C \\to D \\dots \n",
    "\\end{cases}\n",
    "$\n",
    "\n",
    "The main procedure works by iteratively picking one path from $Source$ to $Destination$\n",
    "and finding out its capacity $E_c$, which is the lowest capacity among all the edges in this path. This is based on the constraint theory: the edge with the lowest capacity limits the total capacity of the path.\n",
    "\n",
    "The algorithm will saturate this edge, setting its flow to 0 and lower the capcity of all the other edges in this path by the same amount $E_c$.\n",
    "\n",
    "It then finds another non-saturated path and repeat the same process.\n",
    "\n",
    "The algorithm terminates when it can no longer find a path that is not saturated, i.e. all the paths that connect the $Source$ to $Destination$ contain at least one edge with `0` flow. This is the moment the system runs with the maximum capacity, which is the sum of the all previously discovered capacities, $\\sum E_c$\n"
   ]
  },
  {
   "cell_type": "markdown",
   "id": "92af4b39",
   "metadata": {},
   "source": [
    "### Pseudo-code in Python"
   ]
  },
  {
   "cell_type": "markdown",
   "id": "5a2737b6",
   "metadata": {},
   "source": [
    "```python\n",
    "def max_flow(edges, src, sink):\n",
    "    residual_graph = create_residual_graph(edges)\n",
    "    result = 0\n",
    "    while True:\n",
    "        path = extract_path(residual_graph, src, sink)\n",
    "        if not path:\n",
    "            break\n",
    "        min_flow = min_capacity(path)\n",
    "        result += min_flow\n",
    "        for (fr, to_, weight) in path:\n",
    "            update_residual_graph(residual_graph, fr, to_, -min_flow)\n",
    "            update_residual_graph(residual_graph, to_, fr, min_flow)\n",
    "    return result\n",
    "```"
   ]
  },
  {
   "cell_type": "markdown",
   "id": "a154ae16",
   "metadata": {},
   "source": [
    "- \"destination\" is called \"sink\" in this pseudo-code to follow the converion established by Edmonds-Karp.\n",
    "- `create_residual_graph()` builds up a graph in the adjacency list representation using Python's `defaultdict`.\n",
    "- `extract_path()` performs a breath-first search to discover an unsatured path\n",
    "- `update_residual_graph()` modifies the residual graph, taking contribution from each edge in the current path "
   ]
  },
  {
   "cell_type": "markdown",
   "id": "ec0d18a1",
   "metadata": {},
   "source": [
    "## Complexity"
   ]
  },
  {
   "cell_type": "markdown",
   "id": "599b6313",
   "metadata": {},
   "source": [
    "### Runtime"
   ]
  },
  {
   "cell_type": "markdown",
   "id": "30734a77",
   "metadata": {},
   "source": [
    "The runtime complexity of this algorithm is $O(N \\cdot M^2)$ (recall that $N$ is the number of nodes and $M$ the number of edges). Here is the reasoning:\n",
    "\n",
    "- the number of iterations is bounded by the number of nodes, $N$\n",
    "- each iteration takes at maximum $O(M)$ to find an unsaturated path\n",
    "- for each path, it takes up to $O(M)$ to update the flow values (taking contributions and marking certain edge saturated)\n",
    "\n",
    "hence $O(N \\cdot M \\cdot M) = O(N \\cdot M^2)$\n",
    "\n",
    "The time taken to create the residual graph is bounded at $O(N + M)$ therefore it does not contribute to the overall runtime complexity (as it is dominated by the max flow computation)"
   ]
  },
  {
   "cell_type": "markdown",
   "id": "ffc3f4a7",
   "metadata": {},
   "source": [
    "### Space"
   ]
  },
  {
   "cell_type": "markdown",
   "id": "fe005b70",
   "metadata": {},
   "source": [
    "The space complexity varies, depending on the graph representation.\n",
    "\n",
    "Here I use the adjacency list representation (based on Python's dictionary, which is a hash map) therefore it takes $O(N \\cdot M)$ space (plus some additional bookkeeping space needed by the garbage collector)"
   ]
  },
  {
   "cell_type": "markdown",
   "id": "ca20113e",
   "metadata": {},
   "source": [
    "## Working demo"
   ]
  },
  {
   "cell_type": "markdown",
   "id": "06cf460e",
   "metadata": {},
   "source": [
    "A working demo of this solution can be found at `nwtunnel` directory.\n",
    "\n",
    "Please refer to the instructions in its `README.md` file.\n",
    "\n"
   ]
  },
  {
   "cell_type": "markdown",
   "id": "30b1fb41",
   "metadata": {},
   "source": [
    "## Performance implication"
   ]
  },
  {
   "cell_type": "markdown",
   "id": "d3442fd5",
   "metadata": {},
   "source": [
    "This algorithm scales badly when the number of nodes and edges gets larger and larger.\n",
    "\n",
    "```text\n",
    "10 nodes      2 edges/n     time: 0.00002 seconds\n",
    "100 nodes     20 edges/n    time: 0.07790 seconds\n",
    "100 nodes     40 edges/n    time: 0.38575 seconds\n",
    "1000 nodes    20 edges/n    time: 1.26458 seconds\n",
    "1000 nodes    40 edges/n    time: 12.20731 seconds\n",
    "```\n",
    "\n",
    "As shown in the the output of the performance testing script `perf_test.py`, when\n",
    "the system has 1000 nodes and 40 edges per node (40000 edges in total), it takes\n",
    "over 10 seconds to compute the result.\n",
    "\n",
    "This indicates that in a real world scale where a tunnel/network system may contain tens of thousands roads or tunnels, in order to ensure the system is responsive (for example, ensure that each query takes at maximum 1 second), we should take the following optimization and scaling approaches:\n",
    "\n",
    "- use language-level parallelism, such as Python's built-in `multiprocessing` library, which reduces the computing time to roughly $\\frac{1}{3} \\sim \\frac{1}{5}$ on an 8-core server.\n",
    "- use caching to avoid recomputing the same query, provided that the graph data does not change\n",
    "- reimplement in a more CPU-efficient language such as C++ (with the help of parallel-programming libraries such as TBB); estimating the speed-up could be 5-10x\n",
    "- offload the computation to GPU via CUDA graph library or other alternatives\n",
    "- use infrastructure-level parallelism such as auto-scaling to distribute the query requests onto a cluster\n",
    "\n",
    "I will cover the infrastructure-level parallelism in the second part."
   ]
  },
  {
   "cell_type": "markdown",
   "id": "d358526a",
   "metadata": {},
   "source": []
  }
 ],
 "metadata": {
  "kernelspec": {
   "display_name": "one-off",
   "language": "python",
   "name": "python3"
  },
  "language_info": {
   "codemirror_mode": {
    "name": "ipython",
    "version": 3
   },
   "file_extension": ".py",
   "mimetype": "text/x-python",
   "name": "python",
   "nbconvert_exporter": "python",
   "pygments_lexer": "ipython3",
   "version": "3.8.1"
  }
 },
 "nbformat": 4,
 "nbformat_minor": 5
}
